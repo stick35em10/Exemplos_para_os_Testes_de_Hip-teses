{
  "nbformat": 4,
  "nbformat_minor": 0,
  "metadata": {
    "colab": {
      "provenance": [],
      "authorship_tag": "ABX9TyM0lFBCeDBLZ1/R/7yjHHDd",
      "include_colab_link": true
    },
    "kernelspec": {
      "name": "python3",
      "display_name": "Python 3"
    },
    "language_info": {
      "name": "python"
    }
  },
  "cells": [
    {
      "cell_type": "markdown",
      "metadata": {
        "id": "view-in-github",
        "colab_type": "text"
      },
      "source": [
        "<a href=\"https://colab.research.google.com/github/stick35em10/Exemplos_para_os_Testes_de_Hip-teses/blob/main/Aula_10_Exemplos_para_os_Testes_de_Hip%C3%B3teses.ipynb\" target=\"_parent\"><img src=\"https://colab.research.google.com/assets/colab-badge.svg\" alt=\"Open In Colab\"/></a>"
      ]
    },
    {
      "cell_type": "markdown",
      "source": [
        "  ***Problema 01:***\n",
        "\n",
        " Suponha que uma bióloga gostaria de saber se altura média de uma certa espécie de\n",
        "planta é igual a 15 cm. Ela coleta amostras aleatórias de 12 plantas and anota cada uma\n",
        "de suas alturas em cm."
      ],
      "metadata": {
        "id": "zthfY8uotHf0"
      }
    },
    {
      "cell_type": "code",
      "execution_count": null,
      "metadata": {
        "id": "ODzZd1LEldAB"
      },
      "outputs": [],
      "source": [
        " df = [14, 14, 16, 13, 12, 17, 15, 14, 15, 13, 15, 14]"
      ]
    }
  ]
}