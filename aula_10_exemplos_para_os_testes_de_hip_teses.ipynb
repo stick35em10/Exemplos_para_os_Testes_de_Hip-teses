{
  "nbformat": 4,
  "nbformat_minor": 0,
  "metadata": {
    "colab": {
      "provenance": [],
      "collapsed_sections": [
        "LEdmuJR9KCWk",
        "Zv6U3K7iMckZ",
        "1uG1F2fCHhVJ",
        "-dHXvYw6NIN3",
        "zhP1iwz-S4Bu",
        "lMNVzveVZla8",
        "O_iLHmeYZ0sC",
        "okdw_wqxTGS8",
        "_XgMCaaeTSCW",
        "hVtX-JEgabio",
        "jlIMLb6VLPtj",
        "Nlm3n2gbK81d"
      ],
      "toc_visible": true,
      "authorship_tag": "ABX9TyMiS70/KpFIsQiGyRnnZG64",
      "include_colab_link": true
    },
    "kernelspec": {
      "name": "python3",
      "display_name": "Python 3"
    },
    "language_info": {
      "name": "python"
    }
  },
  "cells": [
    {
      "cell_type": "markdown",
      "metadata": {
        "id": "view-in-github",
        "colab_type": "text"
      },
      "source": [
        "<a href=\"https://colab.research.google.com/github/stick35em10/Exemplos_para_os_Testes_de_Hip-teses/blob/Problema%2302/aula_10_exemplos_para_os_testes_de_hip_teses.ipynb\" target=\"_parent\"><img src=\"https://colab.research.google.com/assets/colab-badge.svg\" alt=\"Open In Colab\"/></a>"
      ]
    },
    {
      "cell_type": "markdown",
      "source": [
        "#1.0 Apresentação do Problema 02"
      ],
      "metadata": {
        "id": "Z-Q6_54gG_fz"
      }
    },
    {
      "cell_type": "markdown",
      "source": [
        "  #1.0 Apresentação do problema"
      ],
      "metadata": {
        "id": "zthfY8uotHf0"
      }
    },
    {
      "cell_type": "markdown",
      "source": [
        "Pesquisadores gostariam de saber se duas espécies diferentes de plantas tem a mesma\n",
        "altura média. Eles coletaram amostras aleatórias de 20 plantas de cada espécie."
      ],
      "metadata": {
        "id": "-rUFMBChGPhd"
      }
    },
    {
      "cell_type": "code",
      "execution_count": null,
      "metadata": {
        "id": "ODzZd1LEldAB"
      },
      "outputs": [],
      "source": [
        "df1 = np.array([14, 15, 15, 16, 13, 8, 14, 17, 16, 14, 19, 20, 21, 15, 15, 16, 16, 13, 14, 12])\n",
        "df2 = np.array([15, 17, 14, 17, 14, 8, 12, 19, 19, 14, 17, 22, 24, 16, 13, 16, 13, 18, 15, 13])"
      ]
    },
    {
      "cell_type": "markdown",
      "source": [
        "[Visualizar o diagrama com a descrição do problema e como escolheu-se o teste](https://viewer.diagrams.net/?tags=%7B%7D&lightbox=1&highlight=0000ff&edit=_blank&layers=1&nav=1&title=Untitled%20Diagram.drawio&dark=auto#Uhttps%3A%2F%2Fraw.githubusercontent.com%2Fstick35em10%2FExemplos_para_os_Testes_de_Hip-teses%2Fmain%2Fdiagrams%2FUntitled%2520Diagram.drawio)"
      ],
      "metadata": {
        "id": "RICCvnPn6x05"
      }
    },
    {
      "cell_type": "markdown",
      "source": [
        "#3.1 Avaliando os pressupostos sobre os dados"
      ],
      "metadata": {
        "id": "IGSmWq7f8MGd"
      }
    },
    {
      "cell_type": "markdown",
      "source": [
        "##3.1.1 Aleatoriedade"
      ],
      "metadata": {
        "id": "0Ac7SmpzJOQK"
      }
    },
    {
      "cell_type": "markdown",
      "source": [
        "Conforme a descrição do problema, ela coleta amostras aleatórias. Assim cumprese o pressuposto da aleatoriedade dos dados."
      ],
      "metadata": {
        "id": "1CI-Z7WBJYEM"
      }
    },
    {
      "cell_type": "markdown",
      "source": [
        "##3.1.2 Independência"
      ],
      "metadata": {
        "id": "LEdmuJR9KCWk"
      }
    },
    {
      "cell_type": "markdown",
      "source": [
        "A verificação da independência dos dados da amostra é crucial para a validade de muitos testes estatísticos. A independência significa que a observação de um dado não influencia a observação de outro."
      ],
      "metadata": {
        "id": "PMoi3xxPLsEz"
      }
    },
    {
      "cell_type": "markdown",
      "source": [
        "###3.1.2.1 verificar a independência dos dados"
      ],
      "metadata": {
        "id": "Q3z9X_AGMUUK"
      }
    },
    {
      "cell_type": "markdown",
      "source": [
        "###3.1.2.1.1. Compreensão do Processo de Coleta de Dados:"
      ],
      "metadata": {
        "id": "Zv6U3K7iMckZ"
      }
    },
    {
      "cell_type": "markdown",
      "source": [
        "1. Compreensão do Processo de Coleta de Dados:# New Section"
      ],
      "metadata": {
        "id": "2cHcl1VlMxVo"
      }
    },
    {
      "cell_type": "markdown",
      "source": [
        "####3.1.2.1 1. Design do Estudo:\n",
        "\n"
      ],
      "metadata": {
        "id": "1uG1F2fCHhVJ"
      }
    },
    {
      "cell_type": "markdown",
      "source": [
        "\n",
        "\n",
        "*   A forma como os dados foram coletados é fundamental.Amostragem aleatória simples geralmente garante independência.\n",
        "*   Se os dados foram coletados em clusters (grupos), ou se há uma relação temporal entre as observações, a independência pode ser violada.\n",
        "\n",
        "\n",
        "\n"
      ],
      "metadata": {
        "id": "zRAIEqzSOOfO"
      }
    },
    {
      "cell_type": "markdown",
      "source": [
        "Conforme a descricao do problema (1.0), Ela coleta amostras aleatórias, assim sendo podemos assumir que as amostras são independentes."
      ],
      "metadata": {
        "id": "MbwwrDPyO6D6"
      }
    },
    {
      "cell_type": "markdown",
      "source": [
        "####3.1.2.1 **2**. Conhecimento do Domínio:"
      ],
      "metadata": {
        "id": "-dHXvYw6NIN3"
      }
    },
    {
      "cell_type": "markdown",
      "source": [
        "Ao selecionar 12 plantas aleatoriamente, assume-se que cada planta é independente das outras. Isso significa que a medição de uma planta não influencia a medição de outra"
      ],
      "metadata": {
        "id": "JEmAZJsmPpAz"
      }
    },
    {
      "cell_type": "markdown",
      "source": [
        "Em resumo:\n",
        "\n",
        "**Amostras aleatórias de 12 plantas fornecem dados independentes, permitindo inferências sobre a população.**"
      ],
      "metadata": {
        "id": "eTHIDeaiP7ij"
      }
    },
    {
      "cell_type": "markdown",
      "source": [
        "###3.1.2.1.2. Testes Estatísticos:"
      ],
      "metadata": {
        "id": "zhP1iwz-S4Bu"
      }
    },
    {
      "cell_type": "markdown",
      "source": [
        "####3.1.2.1.2.1. Teste de Runs:"
      ],
      "metadata": {
        "id": "lJ4NmW7tUV2E"
      }
    },
    {
      "cell_type": "markdown",
      "source": [
        "Este teste é usado para verificar a aleatoriedade em uma sequência de dados binários (dois resultados possíveis).\n",
        "Ele verifica se há padrões não aleatórios na sequência, o que indicaria falta de"
      ],
      "metadata": {
        "id": "SekZ8siQZcPS"
      }
    },
    {
      "cell_type": "markdown",
      "source": [
        "####3.1.2.1.2.2.Teste de Autocorrelação:"
      ],
      "metadata": {
        "id": "lMNVzveVZla8"
      }
    },
    {
      "cell_type": "markdown",
      "source": [
        "Se os dados forem uma série temporal, a autocorrelação verifica se os valores são correlacionados com valores anteriores.\n",
        "Alta autocorrelação indica falta de independência."
      ],
      "metadata": {
        "id": "2h9PGHSbZwfo"
      }
    },
    {
      "cell_type": "markdown",
      "source": [
        "####3.1.2.1.2.3. Teste Qui-Quadrado:"
      ],
      "metadata": {
        "id": "O_iLHmeYZ0sC"
      }
    },
    {
      "cell_type": "markdown",
      "source": [
        "Se você tiver dados categóricos, o teste qui-quadrado pode verificar se há associação entre variáveis. Se não houver associação, isso sugere independência."
      ],
      "metadata": {
        "id": "hxRS72UBZ-ex"
      }
    },
    {
      "cell_type": "markdown",
      "source": [
        "###3.1.2.1.3. Métodos Gráficos:"
      ],
      "metadata": {
        "id": "sxh84PakSvdQ"
      }
    },
    {
      "cell_type": "markdown",
      "source": [
        "####3.1.2.1.3.1 Gráficos de Dispersão:"
      ],
      "metadata": {
        "id": "okdw_wqxTGS8"
      }
    },
    {
      "cell_type": "markdown",
      "source": [
        "*   Se você tiver pares de dados, um gráfico de dispersão pode mostrar se há alguma relação entre as variáveis.\n",
        "*   Padrões nos dados podem indicar falta de independência.\n"
      ],
      "metadata": {
        "id": "nngHkCQtTbJ0"
      }
    },
    {
      "cell_type": "markdown",
      "source": [
        "####3.1.2.1.3.2 Gráficos de Resíduos"
      ],
      "metadata": {
        "id": "_XgMCaaeTSCW"
      }
    },
    {
      "cell_type": "markdown",
      "source": [
        "Em modelos de regressão, os gráficos de resíduos podem revelar padrões que indicam falta de independência."
      ],
      "metadata": {
        "id": "SXQKI-6mTYqV"
      }
    },
    {
      "cell_type": "markdown",
      "source": [
        "###3.1.2.1.2. Testes Estatísticos:"
      ],
      "metadata": {
        "id": "hIxfFrqFNixP"
      }
    },
    {
      "cell_type": "markdown",
      "source": [
        "###3.1.2.1.3. Métodos Gráficos:"
      ],
      "metadata": {
        "id": "vtfrYkCrN8TO"
      }
    },
    {
      "cell_type": "markdown",
      "source": [
        "##3.1.3 Normalidade"
      ],
      "metadata": {
        "id": "hVtX-JEgabio"
      }
    },
    {
      "cell_type": "markdown",
      "source": [
        "###3.1.3.1 Métodos Gráficos"
      ],
      "metadata": {
        "id": "jlIMLb6VLPtj"
      }
    },
    {
      "cell_type": "code",
      "source": [
        "import numpy as np\n",
        "import scipy.stats as stats\n",
        "import matplotlib.pyplot as plt\n",
        "import seaborn as sns\n",
        "\n",
        "# Dados de exemplo\n",
        "data = df #np.random.normal(0, 1, 100) # Dados normalmente distribuídos\n",
        "#data = np.random.exponential(1,100) #Dados não normalizados\n",
        "\n",
        "# Métodos Gráficos\n",
        "plt.figure(figsize=(12, 6))\n",
        "\n",
        "plt.subplot(1, 2, 1)\n",
        "sns.histplot(data, kde=True)\n",
        "plt.title('Histograma')\n",
        "\n",
        "plt.subplot(1, 2, 2)\n",
        "stats.probplot(data, plot=plt)\n",
        "plt.title('Gráfico Q-Q')\n",
        "\n",
        "plt.show()\n",
        "\n"
      ],
      "metadata": {
        "colab": {
          "base_uri": "https://localhost:8080/",
          "height": 638
        },
        "id": "ecAjwMyZCL9R",
        "outputId": "0cdfcf8b-ccfb-4387-eb07-2bdc72f86b7c"
      },
      "execution_count": null,
      "outputs": [
        {
          "output_type": "display_data",
          "data": {
            "text/plain": [
              "<Figure size 1200x600 with 2 Axes>"
            ],
            "image/png": "[encoded data removed]"
          },
          "metadata": {}
        },
        {
          "output_type": "stream",
          "name": "stdout",
          "text": [
            "Teste de Shapiro-Wilk: ShapiroResult(statistic=np.float64(0.960451647726159), pvalue=np.float64(0.7902585977289283))\n",
            "Teste de Kolmogorov-Smirnov: KstestResult(statistic=np.float64(1.0), pvalue=np.float64(0.0), statistic_location=np.int64(12), statistic_sign=np.int8(-1))\n",
            "Teste de D'Agostino-Pearson: NormaltestResult(statistic=np.float64(0.37699813575078045), pvalue=np.float64(0.8282012754250729))\n"
          ]
        },
        {
          "output_type": "stream",
          "name": "stderr",
          "text": [
            "/usr/local/lib/python3.11/dist-packages/scipy/stats/_axis_nan_policy.py:418: UserWarning: `kurtosistest` p-value may be inaccurate with fewer than 20 observations; only n=12 observations were given.\n",
            "  return hypotest_fun_in(*args, **kwds)\n"
          ]
        }
      ]
    },
    {
      "cell_type": "markdown",
      "source": [
        "** conforme os gráficos acima os dados sugerem uma distribuição normal, os pontos do gráfico Q-Q seguirão aproximadamente uma linha reta, que os dados apresentam uma distribuicao normal**"
      ],
      "metadata": {
        "id": "8kKYMTQbCsCj"
      }
    },
    {
      "cell_type": "markdown",
      "source": [
        "###3.1.3.2 Testes Estatisticos"
      ],
      "metadata": {
        "id": "Nlm3n2gbK81d"
      }
    },
    {
      "cell_type": "code",
      "source": [
        "# Testes Estatísticos\n",
        "shapiro_test = stats.shapiro(data)\n",
        "print(f'Teste de Shapiro-Wilk: {shapiro_test}')\n",
        "\n",
        "kstest_test = stats.kstest(data, 'norm')\n",
        "print(f'Teste de Kolmogorov-Smirnov: {kstest_test}')\n",
        "\n",
        "dagostino_test = stats.normaltest(data)\n",
        "print(f\"Teste de D'Agostino-Pearson: {dagostino_test}\")\n",
        "\n",
        "#Interpretação\n",
        "alpha = 0.05\n",
        "\n",
        "if shapiro_test.pvalue > alpha:\n",
        "    print(\"Os dados parecem ser normalmente distribuídos (Shapiro-Wilk)\")\n",
        "else:\n",
        "    print(\"Os dados não parecem ser normalmente distribuídos (Shapiro-Wilk)\")\n",
        "\n",
        "if kstest_test.pvalue > alpha:\n",
        "    print(\"Os dados parecem ser normalmente distribuídos (Kolmogorov-Smirnov)\")\n",
        "else:\n",
        "    print(\"Os dados não parecem ser normalmente distribuídos (Kolmogorov-Smirnov)\")\n",
        "\n",
        "if dagostino_test.pvalue > alpha:\n",
        "    print(\"Os dados parecem ser normalmente distribuídos (D'Agostino-Pearson)\")\n",
        "else:\n",
        "    print(\"Os dados não parecem ser normalmente distribuídos (D'Agostino-Pearson)\")\n"
      ],
      "metadata": {
        "colab": {
          "base_uri": "https://localhost:8080/"
        },
        "id": "tg0pr_vsECnD",
        "outputId": "f98ba947-dff4-4f18-e74a-28e3efe4c17d"
      },
      "execution_count": null,
      "outputs": [
        {
          "output_type": "stream",
          "name": "stdout",
          "text": [
            "Teste de Shapiro-Wilk: ShapiroResult(statistic=np.float64(0.960451647726159), pvalue=np.float64(0.7902585977289283))\n",
            "Teste de Kolmogorov-Smirnov: KstestResult(statistic=np.float64(1.0), pvalue=np.float64(0.0), statistic_location=np.int64(12), statistic_sign=np.int8(-1))\n",
            "Teste de D'Agostino-Pearson: NormaltestResult(statistic=np.float64(0.37699813575078045), pvalue=np.float64(0.8282012754250729))\n",
            "Os dados parecem ser normalmente distribuídos (Shapiro-Wilk)\n",
            "Os dados não parecem ser normalmente distribuídos (Kolmogorov-Smirnov)\n",
            "Os dados parecem ser normalmente distribuídos (D'Agostino-Pearson)\n"
          ]
        }
      ]
    },
    {
      "cell_type": "markdown",
      "source": [
        "**# Conclusão**\n",
        "Quanto a normalidade dos dados, os tres testes aplicados, apenas o teste Kolmogorov-Smirnov não sugere que os dados apresentam distribuição normal, assim sendo consideram que os dados sugerem uma distribuição normal conforme a sugestão dos testes Shapiro-Wilk e D’Agostino-Pearson, como também a sugestão gráfica."
      ],
      "metadata": {
        "id": "HmOR07-uEbyY"
      }
    },
    {
      "cell_type": "markdown",
      "source": [
        "#4.1 Aplicação do One Sample t-test"
      ],
      "metadata": {
        "id": "X2xd48u1IoLY"
      }
    },
    {
      "cell_type": "code",
      "source": [
        "import numpy as np\n",
        "from scipy import stats\n",
        "\n",
        "def one_sample_ttest(data, popmean):\n",
        "    \"\"\"\n",
        "    Hipóteses do teste t de uma amostra:\n",
        "\n",
        "    Hipótese nula (H0): A média da amostra é igual à média populacional hipotética.\n",
        "    Hipótese alternativa (H1): A média da amostra é diferente da média populacional hipotética.\n",
        "    Requisitos:\n",
        "\n",
        "    Os dados da amostra devem ser normalmente distribuídos.\n",
        "    Os dados da amostra devem ser independentes.\n",
        "    Executa um teste t de uma amostra.\n",
        "\n",
        "    Args:\n",
        "        data (list or numpy.ndarray): Dados da amostra.\n",
        "        popmean (float): Média populacional hipotética.\n",
        "\n",
        "    Returns:\n",
        "        tuple: Estatística t e valor p.\n",
        "    \"\"\"\n",
        "\n",
        "    t_statistic, p_value = stats.ttest_1samp(data, popmean)\n",
        "    return t_statistic, p_value\n",
        "\n",
        "# Exemplo de uso:\n",
        "media = np.mean(df)\n",
        "#data = [22, 25, 27, 21, 24, 28, 26, 23, 25, 29] #dados de exemplo\n",
        "popmean = 15 #média populacional hipotética\n",
        "\n",
        "t_statistic, p_value = one_sample_ttest(data, popmean)\n",
        "\n",
        "print(f\"Estatística t: {t_statistic}\")\n",
        "print(f\"Valor p: {p_value}\")\n",
        "\n",
        "# Interpretação do resultado\n",
        "alpha = 0.05 #nível de significância comum\n",
        "\n",
        "if p_value < alpha:\n",
        "    print(\"Rejeitamos a hipótese nula. Há evidências estatísticas de que a média da amostra é diferente da média populacional.\")\n",
        "else:\n",
        "    print(\"Não rejeitou-se a hipótese nula. Não há evidências estatísticas de que a média da amostra seja diferente da média populacional.\")\n",
        "    #print(f\"A média é: {media:.2f}\")\n",
        "    print(f\"A um nivel significancia de {alpha} Não rejeitamos a hipótese nula. Não há evidências estatísticas de que a média da amostra de {media:.2f} seja diferente da média populacional de {popmean}.\")\n",
        "    print(f\"A diferencao de {(popmean - media):.2f}, entre as  médias {popmean} - {media:.2f}, resulta da aleatoriedade dos dados e não é significativa ao nível de significância de {alpha}.\")\n",
        "    #Segundo o teste a diferença de -0.6666666666666661 entre as médias, resulta da aleatoriedade dos dados e não é significativa ao nível de 0.05.\n",
        "#Exemplo com numpy arrays\n",
        "#data_numpy = np.array([22, 25, 27, 21, 24, 28, 26, 23, 25, 29])\n",
        "#t_statistic_np, p_value_np = one_sample_ttest(data_numpy, popmean)\n",
        "\n",
        "#print(f\"\\nEstatística t(numpy): {t_statistic_np}\")\n",
        "#print(f\"Valor p(numpy): {p_value_np}\")\n",
        "\n",
        "#if p_value_np < alpha:\n",
        "#    print(\"Rejeitamos a hipótese nula(numpy). Há evidências estatísticas de que a média da amostra é diferente da média populacional.\")\n",
        "#else:\n",
        "#    print(\"Não rejeitamos a hipótese nula(numpy). Não há evidências estatísticas de que a média da amostra seja diferente da média populacional.\")"
      ],
      "metadata": {
        "colab": {
          "base_uri": "https://localhost:8080/"
        },
        "id": "8TFu3imxI8Iw",
        "outputId": "f109c385-0287-437b-f1c4-e7f1fb528cbb"
      },
      "execution_count": null,
      "outputs": [
        {
          "output_type": "stream",
          "name": "stdout",
          "text": [
            "Estatística t: -1.6848470783484626\n",
            "Valor p: 0.12014460742498101\n",
            "Não rejeitou-se a hipótese nula. Não há evidências estatísticas de que a média da amostra seja diferente da média populacional.\n",
            "A um nivel significancia de 0.05 Não rejeitamos a hipótese nula. Não há evidências estatísticas de que a média da amostra de 14.33 seja diferente da média populacional de 15.\n",
            "A diferencao de 0.67, entre as  médias 15 - 14.33, resulta da aleatoriedade dos dados e não é significativa ao nível de significância de 0.05.\n"
          ]
        }
      ]
    }
  ]
}